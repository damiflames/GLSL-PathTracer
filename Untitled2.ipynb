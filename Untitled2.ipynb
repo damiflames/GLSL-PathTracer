{
  "nbformat": 4,
  "nbformat_minor": 0,
  "metadata": {
    "colab": {
      "name": "Untitled2.ipynb",
      "provenance": [],
      "collapsed_sections": [],
      "authorship_tag": "ABX9TyOK6Z/eqaUg+XlpDbZTo489",
      "include_colab_link": true
    },
    "kernelspec": {
      "name": "python3",
      "display_name": "Python 3"
    },
    "language_info": {
      "name": "python"
    }
  },
  "cells": [
    {
      "cell_type": "markdown",
      "metadata": {
        "id": "view-in-github",
        "colab_type": "text"
      },
      "source": [
        "<a href=\"https://colab.research.google.com/github/damiflames/GLSL-PathTracer/blob/master/Untitled2.ipynb\" target=\"_parent\"><img src=\"https://colab.research.google.com/assets/colab-badge.svg\" alt=\"Open In Colab\"/></a>"
      ]
    },
    {
      "cell_type": "code",
      "execution_count": 1,
      "metadata": {
        "id": "IWA09R5lCCNV"
      },
      "outputs": [],
      "source": [
        "import numpy as np\n",
        "import pandas as pd\n",
        "import matplotlib.pyplot as plt\n",
        "import seaborn as sns\n",
        "from sklearn.linear_model import LinearRegression\n",
        "from sklearn.model_selection import train_test_split\n",
        "\n"
      ]
    },
    {
      "cell_type": "code",
      "source": [
        "df = pd.read_csv(\"energydata_complete.csv\")\n"
      ],
      "metadata": {
        "id": "ZLBcmielCDdS"
      },
      "execution_count": 3,
      "outputs": []
    },
    {
      "cell_type": "code",
      "source": [
        "df.drop([\"lights\"], axis = 1, inplace= True)\n",
        "\n"
      ],
      "metadata": {
        "id": "yFfHU6N6CUsY"
      },
      "execution_count": 24,
      "outputs": []
    },
    {
      "cell_type": "code",
      "source": [
        "df"
      ],
      "metadata": {
        "colab": {
          "base_uri": "https://localhost:8080/",
          "height": 487
        },
        "id": "w9ZjgGIMCZkt",
        "outputId": "cba24fa1-07ec-42e1-ce84-135b15dc105a"
      },
      "execution_count": 25,
      "outputs": [
        {
          "output_type": "execute_result",
          "data": {
            "text/html": [
              "\n",
              "  <div id=\"df-85e70668-c2af-4980-a4e9-fd60c24f9831\">\n",
              "    <div class=\"colab-df-container\">\n",
              "      <div>\n",
              "<style scoped>\n",
              "    .dataframe tbody tr th:only-of-type {\n",
              "        vertical-align: middle;\n",
              "    }\n",
              "\n",
              "    .dataframe tbody tr th {\n",
              "        vertical-align: top;\n",
              "    }\n",
              "\n",
              "    .dataframe thead th {\n",
              "        text-align: right;\n",
              "    }\n",
              "</style>\n",
              "<table border=\"1\" class=\"dataframe\">\n",
              "  <thead>\n",
              "    <tr style=\"text-align: right;\">\n",
              "      <th></th>\n",
              "      <th>Appliances</th>\n",
              "      <th>T1</th>\n",
              "      <th>RH_1</th>\n",
              "      <th>T2</th>\n",
              "      <th>RH_2</th>\n",
              "      <th>T3</th>\n",
              "      <th>RH_3</th>\n",
              "      <th>T4</th>\n",
              "      <th>RH_4</th>\n",
              "      <th>T5</th>\n",
              "      <th>RH_5</th>\n",
              "      <th>T6</th>\n",
              "      <th>RH_6</th>\n",
              "      <th>T7</th>\n",
              "      <th>RH_7</th>\n",
              "      <th>T8</th>\n",
              "      <th>RH_8</th>\n",
              "      <th>T9</th>\n",
              "      <th>RH_9</th>\n",
              "      <th>T_out</th>\n",
              "      <th>Press_mm_hg</th>\n",
              "      <th>RH_out</th>\n",
              "      <th>Windspeed</th>\n",
              "      <th>Visibility</th>\n",
              "      <th>Tdewpoint</th>\n",
              "      <th>rv1</th>\n",
              "      <th>rv2</th>\n",
              "    </tr>\n",
              "  </thead>\n",
              "  <tbody>\n",
              "    <tr>\n",
              "      <th>0</th>\n",
              "      <td>60</td>\n",
              "      <td>19.890000</td>\n",
              "      <td>47.596667</td>\n",
              "      <td>19.200000</td>\n",
              "      <td>44.790000</td>\n",
              "      <td>19.790000</td>\n",
              "      <td>44.730000</td>\n",
              "      <td>19.000000</td>\n",
              "      <td>45.566667</td>\n",
              "      <td>17.166667</td>\n",
              "      <td>55.200000</td>\n",
              "      <td>7.026667</td>\n",
              "      <td>84.256667</td>\n",
              "      <td>17.200000</td>\n",
              "      <td>41.626667</td>\n",
              "      <td>18.2000</td>\n",
              "      <td>48.900000</td>\n",
              "      <td>17.033333</td>\n",
              "      <td>45.5300</td>\n",
              "      <td>6.60</td>\n",
              "      <td>733.5</td>\n",
              "      <td>92.000000</td>\n",
              "      <td>7.000000</td>\n",
              "      <td>63.000000</td>\n",
              "      <td>5.3</td>\n",
              "      <td>13.275433</td>\n",
              "      <td>13.275433</td>\n",
              "    </tr>\n",
              "    <tr>\n",
              "      <th>1</th>\n",
              "      <td>60</td>\n",
              "      <td>19.890000</td>\n",
              "      <td>46.693333</td>\n",
              "      <td>19.200000</td>\n",
              "      <td>44.722500</td>\n",
              "      <td>19.790000</td>\n",
              "      <td>44.790000</td>\n",
              "      <td>19.000000</td>\n",
              "      <td>45.992500</td>\n",
              "      <td>17.166667</td>\n",
              "      <td>55.200000</td>\n",
              "      <td>6.833333</td>\n",
              "      <td>84.063333</td>\n",
              "      <td>17.200000</td>\n",
              "      <td>41.560000</td>\n",
              "      <td>18.2000</td>\n",
              "      <td>48.863333</td>\n",
              "      <td>17.066667</td>\n",
              "      <td>45.5600</td>\n",
              "      <td>6.48</td>\n",
              "      <td>733.6</td>\n",
              "      <td>92.000000</td>\n",
              "      <td>6.666667</td>\n",
              "      <td>59.166667</td>\n",
              "      <td>5.2</td>\n",
              "      <td>18.606195</td>\n",
              "      <td>18.606195</td>\n",
              "    </tr>\n",
              "    <tr>\n",
              "      <th>2</th>\n",
              "      <td>50</td>\n",
              "      <td>19.890000</td>\n",
              "      <td>46.300000</td>\n",
              "      <td>19.200000</td>\n",
              "      <td>44.626667</td>\n",
              "      <td>19.790000</td>\n",
              "      <td>44.933333</td>\n",
              "      <td>18.926667</td>\n",
              "      <td>45.890000</td>\n",
              "      <td>17.166667</td>\n",
              "      <td>55.090000</td>\n",
              "      <td>6.560000</td>\n",
              "      <td>83.156667</td>\n",
              "      <td>17.200000</td>\n",
              "      <td>41.433333</td>\n",
              "      <td>18.2000</td>\n",
              "      <td>48.730000</td>\n",
              "      <td>17.000000</td>\n",
              "      <td>45.5000</td>\n",
              "      <td>6.37</td>\n",
              "      <td>733.7</td>\n",
              "      <td>92.000000</td>\n",
              "      <td>6.333333</td>\n",
              "      <td>55.333333</td>\n",
              "      <td>5.1</td>\n",
              "      <td>28.642668</td>\n",
              "      <td>28.642668</td>\n",
              "    </tr>\n",
              "    <tr>\n",
              "      <th>3</th>\n",
              "      <td>50</td>\n",
              "      <td>19.890000</td>\n",
              "      <td>46.066667</td>\n",
              "      <td>19.200000</td>\n",
              "      <td>44.590000</td>\n",
              "      <td>19.790000</td>\n",
              "      <td>45.000000</td>\n",
              "      <td>18.890000</td>\n",
              "      <td>45.723333</td>\n",
              "      <td>17.166667</td>\n",
              "      <td>55.090000</td>\n",
              "      <td>6.433333</td>\n",
              "      <td>83.423333</td>\n",
              "      <td>17.133333</td>\n",
              "      <td>41.290000</td>\n",
              "      <td>18.1000</td>\n",
              "      <td>48.590000</td>\n",
              "      <td>17.000000</td>\n",
              "      <td>45.4000</td>\n",
              "      <td>6.25</td>\n",
              "      <td>733.8</td>\n",
              "      <td>92.000000</td>\n",
              "      <td>6.000000</td>\n",
              "      <td>51.500000</td>\n",
              "      <td>5.0</td>\n",
              "      <td>45.410390</td>\n",
              "      <td>45.410390</td>\n",
              "    </tr>\n",
              "    <tr>\n",
              "      <th>4</th>\n",
              "      <td>60</td>\n",
              "      <td>19.890000</td>\n",
              "      <td>46.333333</td>\n",
              "      <td>19.200000</td>\n",
              "      <td>44.530000</td>\n",
              "      <td>19.790000</td>\n",
              "      <td>45.000000</td>\n",
              "      <td>18.890000</td>\n",
              "      <td>45.530000</td>\n",
              "      <td>17.200000</td>\n",
              "      <td>55.090000</td>\n",
              "      <td>6.366667</td>\n",
              "      <td>84.893333</td>\n",
              "      <td>17.200000</td>\n",
              "      <td>41.230000</td>\n",
              "      <td>18.1000</td>\n",
              "      <td>48.590000</td>\n",
              "      <td>17.000000</td>\n",
              "      <td>45.4000</td>\n",
              "      <td>6.13</td>\n",
              "      <td>733.9</td>\n",
              "      <td>92.000000</td>\n",
              "      <td>5.666667</td>\n",
              "      <td>47.666667</td>\n",
              "      <td>4.9</td>\n",
              "      <td>10.084097</td>\n",
              "      <td>10.084097</td>\n",
              "    </tr>\n",
              "    <tr>\n",
              "      <th>...</th>\n",
              "      <td>...</td>\n",
              "      <td>...</td>\n",
              "      <td>...</td>\n",
              "      <td>...</td>\n",
              "      <td>...</td>\n",
              "      <td>...</td>\n",
              "      <td>...</td>\n",
              "      <td>...</td>\n",
              "      <td>...</td>\n",
              "      <td>...</td>\n",
              "      <td>...</td>\n",
              "      <td>...</td>\n",
              "      <td>...</td>\n",
              "      <td>...</td>\n",
              "      <td>...</td>\n",
              "      <td>...</td>\n",
              "      <td>...</td>\n",
              "      <td>...</td>\n",
              "      <td>...</td>\n",
              "      <td>...</td>\n",
              "      <td>...</td>\n",
              "      <td>...</td>\n",
              "      <td>...</td>\n",
              "      <td>...</td>\n",
              "      <td>...</td>\n",
              "      <td>...</td>\n",
              "      <td>...</td>\n",
              "    </tr>\n",
              "    <tr>\n",
              "      <th>19730</th>\n",
              "      <td>100</td>\n",
              "      <td>25.566667</td>\n",
              "      <td>46.560000</td>\n",
              "      <td>25.890000</td>\n",
              "      <td>42.025714</td>\n",
              "      <td>27.200000</td>\n",
              "      <td>41.163333</td>\n",
              "      <td>24.700000</td>\n",
              "      <td>45.590000</td>\n",
              "      <td>23.200000</td>\n",
              "      <td>52.400000</td>\n",
              "      <td>24.796667</td>\n",
              "      <td>1.000000</td>\n",
              "      <td>24.500000</td>\n",
              "      <td>44.500000</td>\n",
              "      <td>24.7000</td>\n",
              "      <td>50.074000</td>\n",
              "      <td>23.200000</td>\n",
              "      <td>46.7900</td>\n",
              "      <td>22.70</td>\n",
              "      <td>755.2</td>\n",
              "      <td>55.666667</td>\n",
              "      <td>3.333333</td>\n",
              "      <td>23.666667</td>\n",
              "      <td>13.3</td>\n",
              "      <td>43.096812</td>\n",
              "      <td>43.096812</td>\n",
              "    </tr>\n",
              "    <tr>\n",
              "      <th>19731</th>\n",
              "      <td>90</td>\n",
              "      <td>25.500000</td>\n",
              "      <td>46.500000</td>\n",
              "      <td>25.754000</td>\n",
              "      <td>42.080000</td>\n",
              "      <td>27.133333</td>\n",
              "      <td>41.223333</td>\n",
              "      <td>24.700000</td>\n",
              "      <td>45.590000</td>\n",
              "      <td>23.230000</td>\n",
              "      <td>52.326667</td>\n",
              "      <td>24.196667</td>\n",
              "      <td>1.000000</td>\n",
              "      <td>24.557143</td>\n",
              "      <td>44.414286</td>\n",
              "      <td>24.7000</td>\n",
              "      <td>49.790000</td>\n",
              "      <td>23.200000</td>\n",
              "      <td>46.7900</td>\n",
              "      <td>22.60</td>\n",
              "      <td>755.2</td>\n",
              "      <td>56.000000</td>\n",
              "      <td>3.500000</td>\n",
              "      <td>24.500000</td>\n",
              "      <td>13.3</td>\n",
              "      <td>49.282940</td>\n",
              "      <td>49.282940</td>\n",
              "    </tr>\n",
              "    <tr>\n",
              "      <th>19732</th>\n",
              "      <td>270</td>\n",
              "      <td>25.500000</td>\n",
              "      <td>46.596667</td>\n",
              "      <td>25.628571</td>\n",
              "      <td>42.768571</td>\n",
              "      <td>27.050000</td>\n",
              "      <td>41.690000</td>\n",
              "      <td>24.700000</td>\n",
              "      <td>45.730000</td>\n",
              "      <td>23.230000</td>\n",
              "      <td>52.266667</td>\n",
              "      <td>23.626667</td>\n",
              "      <td>1.000000</td>\n",
              "      <td>24.540000</td>\n",
              "      <td>44.400000</td>\n",
              "      <td>24.7000</td>\n",
              "      <td>49.660000</td>\n",
              "      <td>23.200000</td>\n",
              "      <td>46.7900</td>\n",
              "      <td>22.50</td>\n",
              "      <td>755.2</td>\n",
              "      <td>56.333333</td>\n",
              "      <td>3.666667</td>\n",
              "      <td>25.333333</td>\n",
              "      <td>13.3</td>\n",
              "      <td>29.199117</td>\n",
              "      <td>29.199117</td>\n",
              "    </tr>\n",
              "    <tr>\n",
              "      <th>19733</th>\n",
              "      <td>420</td>\n",
              "      <td>25.500000</td>\n",
              "      <td>46.990000</td>\n",
              "      <td>25.414000</td>\n",
              "      <td>43.036000</td>\n",
              "      <td>26.890000</td>\n",
              "      <td>41.290000</td>\n",
              "      <td>24.700000</td>\n",
              "      <td>45.790000</td>\n",
              "      <td>23.200000</td>\n",
              "      <td>52.200000</td>\n",
              "      <td>22.433333</td>\n",
              "      <td>1.000000</td>\n",
              "      <td>24.500000</td>\n",
              "      <td>44.295714</td>\n",
              "      <td>24.6625</td>\n",
              "      <td>49.518750</td>\n",
              "      <td>23.200000</td>\n",
              "      <td>46.8175</td>\n",
              "      <td>22.30</td>\n",
              "      <td>755.2</td>\n",
              "      <td>56.666667</td>\n",
              "      <td>3.833333</td>\n",
              "      <td>26.166667</td>\n",
              "      <td>13.2</td>\n",
              "      <td>6.322784</td>\n",
              "      <td>6.322784</td>\n",
              "    </tr>\n",
              "    <tr>\n",
              "      <th>19734</th>\n",
              "      <td>430</td>\n",
              "      <td>25.500000</td>\n",
              "      <td>46.600000</td>\n",
              "      <td>25.264286</td>\n",
              "      <td>42.971429</td>\n",
              "      <td>26.823333</td>\n",
              "      <td>41.156667</td>\n",
              "      <td>24.700000</td>\n",
              "      <td>45.963333</td>\n",
              "      <td>23.200000</td>\n",
              "      <td>52.200000</td>\n",
              "      <td>21.026667</td>\n",
              "      <td>1.000000</td>\n",
              "      <td>24.500000</td>\n",
              "      <td>44.054000</td>\n",
              "      <td>24.7360</td>\n",
              "      <td>49.736000</td>\n",
              "      <td>23.200000</td>\n",
              "      <td>46.8450</td>\n",
              "      <td>22.20</td>\n",
              "      <td>755.2</td>\n",
              "      <td>57.000000</td>\n",
              "      <td>4.000000</td>\n",
              "      <td>27.000000</td>\n",
              "      <td>13.2</td>\n",
              "      <td>34.118851</td>\n",
              "      <td>34.118851</td>\n",
              "    </tr>\n",
              "  </tbody>\n",
              "</table>\n",
              "<p>19735 rows × 27 columns</p>\n",
              "</div>\n",
              "      <button class=\"colab-df-convert\" onclick=\"convertToInteractive('df-85e70668-c2af-4980-a4e9-fd60c24f9831')\"\n",
              "              title=\"Convert this dataframe to an interactive table.\"\n",
              "              style=\"display:none;\">\n",
              "        \n",
              "  <svg xmlns=\"http://www.w3.org/2000/svg\" height=\"24px\"viewBox=\"0 0 24 24\"\n",
              "       width=\"24px\">\n",
              "    <path d=\"M0 0h24v24H0V0z\" fill=\"none\"/>\n",
              "    <path d=\"M18.56 5.44l.94 2.06.94-2.06 2.06-.94-2.06-.94-.94-2.06-.94 2.06-2.06.94zm-11 1L8.5 8.5l.94-2.06 2.06-.94-2.06-.94L8.5 2.5l-.94 2.06-2.06.94zm10 10l.94 2.06.94-2.06 2.06-.94-2.06-.94-.94-2.06-.94 2.06-2.06.94z\"/><path d=\"M17.41 7.96l-1.37-1.37c-.4-.4-.92-.59-1.43-.59-.52 0-1.04.2-1.43.59L10.3 9.45l-7.72 7.72c-.78.78-.78 2.05 0 2.83L4 21.41c.39.39.9.59 1.41.59.51 0 1.02-.2 1.41-.59l7.78-7.78 2.81-2.81c.8-.78.8-2.07 0-2.86zM5.41 20L4 18.59l7.72-7.72 1.47 1.35L5.41 20z\"/>\n",
              "  </svg>\n",
              "      </button>\n",
              "      \n",
              "  <style>\n",
              "    .colab-df-container {\n",
              "      display:flex;\n",
              "      flex-wrap:wrap;\n",
              "      gap: 12px;\n",
              "    }\n",
              "\n",
              "    .colab-df-convert {\n",
              "      background-color: #E8F0FE;\n",
              "      border: none;\n",
              "      border-radius: 50%;\n",
              "      cursor: pointer;\n",
              "      display: none;\n",
              "      fill: #1967D2;\n",
              "      height: 32px;\n",
              "      padding: 0 0 0 0;\n",
              "      width: 32px;\n",
              "    }\n",
              "\n",
              "    .colab-df-convert:hover {\n",
              "      background-color: #E2EBFA;\n",
              "      box-shadow: 0px 1px 2px rgba(60, 64, 67, 0.3), 0px 1px 3px 1px rgba(60, 64, 67, 0.15);\n",
              "      fill: #174EA6;\n",
              "    }\n",
              "\n",
              "    [theme=dark] .colab-df-convert {\n",
              "      background-color: #3B4455;\n",
              "      fill: #D2E3FC;\n",
              "    }\n",
              "\n",
              "    [theme=dark] .colab-df-convert:hover {\n",
              "      background-color: #434B5C;\n",
              "      box-shadow: 0px 1px 3px 1px rgba(0, 0, 0, 0.15);\n",
              "      filter: drop-shadow(0px 1px 2px rgba(0, 0, 0, 0.3));\n",
              "      fill: #FFFFFF;\n",
              "    }\n",
              "  </style>\n",
              "\n",
              "      <script>\n",
              "        const buttonEl =\n",
              "          document.querySelector('#df-85e70668-c2af-4980-a4e9-fd60c24f9831 button.colab-df-convert');\n",
              "        buttonEl.style.display =\n",
              "          google.colab.kernel.accessAllowed ? 'block' : 'none';\n",
              "\n",
              "        async function convertToInteractive(key) {\n",
              "          const element = document.querySelector('#df-85e70668-c2af-4980-a4e9-fd60c24f9831');\n",
              "          const dataTable =\n",
              "            await google.colab.kernel.invokeFunction('convertToInteractive',\n",
              "                                                     [key], {});\n",
              "          if (!dataTable) return;\n",
              "\n",
              "          const docLinkHtml = 'Like what you see? Visit the ' +\n",
              "            '<a target=\"_blank\" href=https://colab.research.google.com/notebooks/data_table.ipynb>data table notebook</a>'\n",
              "            + ' to learn more about interactive tables.';\n",
              "          element.innerHTML = '';\n",
              "          dataTable['output_type'] = 'display_data';\n",
              "          await google.colab.output.renderOutput(dataTable, element);\n",
              "          const docLink = document.createElement('div');\n",
              "          docLink.innerHTML = docLinkHtml;\n",
              "          element.appendChild(docLink);\n",
              "        }\n",
              "      </script>\n",
              "    </div>\n",
              "  </div>\n",
              "  "
            ],
            "text/plain": [
              "       Appliances         T1       RH_1  ...  Tdewpoint        rv1        rv2\n",
              "0              60  19.890000  47.596667  ...        5.3  13.275433  13.275433\n",
              "1              60  19.890000  46.693333  ...        5.2  18.606195  18.606195\n",
              "2              50  19.890000  46.300000  ...        5.1  28.642668  28.642668\n",
              "3              50  19.890000  46.066667  ...        5.0  45.410390  45.410390\n",
              "4              60  19.890000  46.333333  ...        4.9  10.084097  10.084097\n",
              "...           ...        ...        ...  ...        ...        ...        ...\n",
              "19730         100  25.566667  46.560000  ...       13.3  43.096812  43.096812\n",
              "19731          90  25.500000  46.500000  ...       13.3  49.282940  49.282940\n",
              "19732         270  25.500000  46.596667  ...       13.3  29.199117  29.199117\n",
              "19733         420  25.500000  46.990000  ...       13.2   6.322784   6.322784\n",
              "19734         430  25.500000  46.600000  ...       13.2  34.118851  34.118851\n",
              "\n",
              "[19735 rows x 27 columns]"
            ]
          },
          "metadata": {},
          "execution_count": 25
        }
      ]
    },
    {
      "cell_type": "code",
      "source": [
        "linear_reg_df = df[[\"T2\", \"T6\"]].sample(15, random_state=1)\n",
        "sns.regplot(x = \"T2\", y = \"T6\", data = linear_reg_df)"
      ],
      "metadata": {
        "colab": {
          "base_uri": "https://localhost:8080/",
          "height": 297
        },
        "id": "IQ7zZYjGCaPC",
        "outputId": "e6791db6-6d64-4222-8aea-7be96aeb9fd1"
      },
      "execution_count": 26,
      "outputs": [
        {
          "output_type": "execute_result",
          "data": {
            "text/plain": [
              "<matplotlib.axes._subplots.AxesSubplot at 0x7fe555561dd0>"
            ]
          },
          "metadata": {},
          "execution_count": 26
        },
        {
          "output_type": "display_data",
          "data": {
            "image/png": "[encoded data removed]",
            "text/plain": [
              "<Figure size 432x288 with 1 Axes>"
            ]
          },
          "metadata": {
            "needs_background": "light"
          }
        }
      ]
    },
    {
      "cell_type": "code",
      "source": [
        "x = np.array(df['T2']).reshape(-1, 1)\n",
        "y = np.array(df['T6']).reshape(-1, 1)"
      ],
      "metadata": {
        "id": "vj-Y-uETCeqf"
      },
      "execution_count": 27,
      "outputs": []
    },
    {
      "cell_type": "code",
      "source": [
        "x_train, x_test, y_train, y_test = train_test_split(x, y,\n",
        "test_size= 0.25, random_state =1)"
      ],
      "metadata": {
        "id": "Yz8WM7njChyA"
      },
      "execution_count": 28,
      "outputs": []
    },
    {
      "cell_type": "code",
      "source": [
        "linear_model = LinearRegression()\n",
        "linear_model.fit(x_train, y_train)"
      ],
      "metadata": {
        "colab": {
          "base_uri": "https://localhost:8080/"
        },
        "id": "ExmQCfXbClG3",
        "outputId": "7099a5f2-c480-4d1e-e5c6-d51a5d022cff"
      },
      "execution_count": 29,
      "outputs": [
        {
          "output_type": "execute_result",
          "data": {
            "text/plain": [
              "LinearRegression()"
            ]
          },
          "metadata": {},
          "execution_count": 29
        }
      ]
    },
    {
      "cell_type": "code",
      "source": [
        "predicted_values = linear_model.predict(x_test)"
      ],
      "metadata": {
        "id": "3Qi8eSzDDK8S"
      },
      "execution_count": 30,
      "outputs": []
    },
    {
      "cell_type": "code",
      "source": [
        "from sklearn.metrics import r2_score\n",
        "r2_score = r2_score(y_test, predicted_values)\n",
        "round(r2_score, 2)"
      ],
      "metadata": {
        "colab": {
          "base_uri": "https://localhost:8080/"
        },
        "id": "jyJ0pWkKDwFs",
        "outputId": "afd94cb2-4aa3-4ed3-e369-e9eb84313202"
      },
      "execution_count": 31,
      "outputs": [
        {
          "output_type": "execute_result",
          "data": {
            "text/plain": [
              "0.65"
            ]
          },
          "metadata": {},
          "execution_count": 31
        }
      ]
    },
    {
      "cell_type": "code",
      "source": [
        "from sklearn.preprocessing import MinMaxScaler\n",
        "scaler = MinMaxScaler()\n",
        "normalised_df = pd.DataFrame(scaler.fit_transform(df), columns=df.columns)\n",
        "features_df = normalised_df.drop(columns = ['Appliances'])\n",
        "appliance_target = normalised_df['Appliances']\n",
        "from sklearn.model_selection import train_test_split\n",
        "x_train, x_test, y_train, y_test = train_test_split(features_df, appliance_target,\n",
        "test_size=0.3, random_state=42)\n",
        "linear_model = LinearRegression()\n",
        "linear_model.fit(x_train, y_train)\n",
        "predicted_values = linear_model.predict(x_test)\n"
      ],
      "metadata": {
        "id": "K2rqdctAD0Tc"
      },
      "execution_count": 36,
      "outputs": []
    },
    {
      "cell_type": "code",
      "source": [
        "from sklearn.metrics import mean_absolute_error\n",
        "mae = mean_absolute_error(y_test, predicted_values)\n",
        "round(mae, 2)"
      ],
      "metadata": {
        "colab": {
          "base_uri": "https://localhost:8080/"
        },
        "id": "ZiheG2lcFtuX",
        "outputId": "770603e8-4c94-4453-ff85-b84cd53df286"
      },
      "execution_count": 37,
      "outputs": [
        {
          "output_type": "execute_result",
          "data": {
            "text/plain": [
              "0.05"
            ]
          },
          "metadata": {},
          "execution_count": 37
        }
      ]
    },
    {
      "cell_type": "code",
      "source": [
        "import numpy as np\n",
        "rss = np.sum(np.square(y_test - predicted_values))\n",
        "round(rss, 2)"
      ],
      "metadata": {
        "colab": {
          "base_uri": "https://localhost:8080/"
        },
        "id": "rX84ylsiGx_g",
        "outputId": "9c303204-e666-4233-e12d-2e7dd504e3a6"
      },
      "execution_count": 38,
      "outputs": [
        {
          "output_type": "execute_result",
          "data": {
            "text/plain": [
              "45.35"
            ]
          },
          "metadata": {},
          "execution_count": 38
        }
      ]
    },
    {
      "cell_type": "code",
      "source": [
        "from sklearn.metrics import mean_squared_error\n",
        "rmse = np.sqrt(mean_squared_error(y_test, predicted_values))\n",
        "round(rmse, 2) "
      ],
      "metadata": {
        "colab": {
          "base_uri": "https://localhost:8080/"
        },
        "id": "zU1pck9bHtXm",
        "outputId": "929e6979-fb75-4609-e80a-e62d4373160e"
      },
      "execution_count": 39,
      "outputs": [
        {
          "output_type": "execute_result",
          "data": {
            "text/plain": [
              "0.09"
            ]
          },
          "metadata": {},
          "execution_count": 39
        }
      ]
    },
    {
      "cell_type": "code",
      "source": [
        "from sklearn.metrics import r2_score\n",
        "r2_score = r2_score(y_test, predicted_values)\n",
        "round(r2_score, 2)"
      ],
      "metadata": {
        "colab": {
          "base_uri": "https://localhost:8080/"
        },
        "id": "nHPIaj5cKHXp",
        "outputId": "3460bc1d-d275-41c4-a4d7-749a53a7e45f"
      },
      "execution_count": 40,
      "outputs": [
        {
          "output_type": "execute_result",
          "data": {
            "text/plain": [
              "0.15"
            ]
          },
          "metadata": {},
          "execution_count": 40
        }
      ]
    },
    {
      "cell_type": "code",
      "source": [
        "from sklearn.linear_model import Ridge\n",
        "ridge_reg = Ridge(alpha=0.5)\n",
        "ridge_reg.fit(x_train, y_train)"
      ],
      "metadata": {
        "colab": {
          "base_uri": "https://localhost:8080/"
        },
        "id": "YTVQMVmNLCbT",
        "outputId": "77ad9124-c3d1-4eac-e192-04857c9114c9"
      },
      "execution_count": 41,
      "outputs": [
        {
          "output_type": "execute_result",
          "data": {
            "text/plain": [
              "Ridge(alpha=0.5)"
            ]
          },
          "metadata": {},
          "execution_count": 41
        }
      ]
    },
    {
      "cell_type": "code",
      "source": [
        "from sklearn.linear_model import Lasso\n",
        "lasso_reg = Lasso(alpha=0.001)\n",
        "lasso_reg.fit(x_train, y_train)"
      ],
      "metadata": {
        "colab": {
          "base_uri": "https://localhost:8080/"
        },
        "id": "OZkChN7tLjaC",
        "outputId": "6fe2debe-e65a-4814-e4e2-e711349805d0"
      },
      "execution_count": 42,
      "outputs": [
        {
          "output_type": "execute_result",
          "data": {
            "text/plain": [
              "Lasso(alpha=0.001)"
            ]
          },
          "metadata": {},
          "execution_count": 42
        }
      ]
    },
    {
      "cell_type": "code",
      "source": [
        "def get_weights_df(model, feat, col_name):\n",
        " weights = pd.Series(model.coef_, feat.columns).sort_values()\n",
        " weights_df = pd.DataFrame(weights).reset_index()\n",
        " weights_df.columns = ['Features', col_name]\n",
        " weights_df[col_name].round(3)\n",
        " return weights_df"
      ],
      "metadata": {
        "id": "gayCX8vWLofy"
      },
      "execution_count": 51,
      "outputs": []
    },
    {
      "cell_type": "code",
      "source": [
        "linear_model_weights = get_weights_df(linear_model, x_train, 'Linear_Model_Weight')\n",
        "ridge_weights_df = get_weights_df(ridge_reg, x_train, 'Ridge_Weight')\n",
        "lasso_weights_df = get_weights_df(lasso_reg, x_train, 'Lasso_weight')\n",
        "\n",
        "final_weights = pd.merge(linear_model_weights, ridge_weights_df, on='Features')\n",
        "final_weights = pd.merge(final_weights, lasso_weights_df, on='Features')\n"
      ],
      "metadata": {
        "id": "eEqged6mLt7t"
      },
      "execution_count": 65,
      "outputs": []
    },
    {
      "cell_type": "code",
      "source": [
        "final_weights"
      ],
      "metadata": {
        "colab": {
          "base_uri": "https://localhost:8080/",
          "height": 865
        },
        "id": "Ad3SoOatMQY0",
        "outputId": "1e1c2035-68f1-4d56-f8d1-e9e4f49bc1ec"
      },
      "execution_count": 66,
      "outputs": [
        {
          "output_type": "execute_result",
          "data": {
            "text/html": [
              "\n",
              "  <div id=\"df-98a9a6ab-4d9c-42d1-848e-b8c82224bcdc\">\n",
              "    <div class=\"colab-df-container\">\n",
              "      <div>\n",
              "<style scoped>\n",
              "    .dataframe tbody tr th:only-of-type {\n",
              "        vertical-align: middle;\n",
              "    }\n",
              "\n",
              "    .dataframe tbody tr th {\n",
              "        vertical-align: top;\n",
              "    }\n",
              "\n",
              "    .dataframe thead th {\n",
              "        text-align: right;\n",
              "    }\n",
              "</style>\n",
              "<table border=\"1\" class=\"dataframe\">\n",
              "  <thead>\n",
              "    <tr style=\"text-align: right;\">\n",
              "      <th></th>\n",
              "      <th>Features</th>\n",
              "      <th>Linear_Model_Weight</th>\n",
              "      <th>Ridge_Weight</th>\n",
              "      <th>Lasso_weight</th>\n",
              "    </tr>\n",
              "  </thead>\n",
              "  <tbody>\n",
              "    <tr>\n",
              "      <th>0</th>\n",
              "      <td>RH_2</td>\n",
              "      <td>-0.456662</td>\n",
              "      <td>-0.401113</td>\n",
              "      <td>-0.000000</td>\n",
              "    </tr>\n",
              "    <tr>\n",
              "      <th>1</th>\n",
              "      <td>T_out</td>\n",
              "      <td>-0.321969</td>\n",
              "      <td>-0.250943</td>\n",
              "      <td>0.000000</td>\n",
              "    </tr>\n",
              "    <tr>\n",
              "      <th>2</th>\n",
              "      <td>T2</td>\n",
              "      <td>-0.236198</td>\n",
              "      <td>-0.193899</td>\n",
              "      <td>0.000000</td>\n",
              "    </tr>\n",
              "    <tr>\n",
              "      <th>3</th>\n",
              "      <td>T9</td>\n",
              "      <td>-0.189977</td>\n",
              "      <td>-0.188615</td>\n",
              "      <td>-0.000000</td>\n",
              "    </tr>\n",
              "    <tr>\n",
              "      <th>4</th>\n",
              "      <td>RH_8</td>\n",
              "      <td>-0.157585</td>\n",
              "      <td>-0.156584</td>\n",
              "      <td>-0.000110</td>\n",
              "    </tr>\n",
              "    <tr>\n",
              "      <th>5</th>\n",
              "      <td>RH_out</td>\n",
              "      <td>-0.077748</td>\n",
              "      <td>-0.050642</td>\n",
              "      <td>-0.049557</td>\n",
              "    </tr>\n",
              "    <tr>\n",
              "      <th>6</th>\n",
              "      <td>RH_7</td>\n",
              "      <td>-0.044620</td>\n",
              "      <td>-0.046297</td>\n",
              "      <td>-0.000000</td>\n",
              "    </tr>\n",
              "    <tr>\n",
              "      <th>7</th>\n",
              "      <td>RH_9</td>\n",
              "      <td>-0.039808</td>\n",
              "      <td>-0.041707</td>\n",
              "      <td>-0.000000</td>\n",
              "    </tr>\n",
              "    <tr>\n",
              "      <th>8</th>\n",
              "      <td>T5</td>\n",
              "      <td>-0.015645</td>\n",
              "      <td>-0.020714</td>\n",
              "      <td>-0.000000</td>\n",
              "    </tr>\n",
              "    <tr>\n",
              "      <th>9</th>\n",
              "      <td>T1</td>\n",
              "      <td>-0.003242</td>\n",
              "      <td>-0.021515</td>\n",
              "      <td>0.000000</td>\n",
              "    </tr>\n",
              "    <tr>\n",
              "      <th>10</th>\n",
              "      <td>rv2</td>\n",
              "      <td>0.000765</td>\n",
              "      <td>0.000740</td>\n",
              "      <td>-0.000000</td>\n",
              "    </tr>\n",
              "    <tr>\n",
              "      <th>11</th>\n",
              "      <td>rv1</td>\n",
              "      <td>0.000765</td>\n",
              "      <td>0.000740</td>\n",
              "      <td>-0.000000</td>\n",
              "    </tr>\n",
              "    <tr>\n",
              "      <th>12</th>\n",
              "      <td>Press_mm_hg</td>\n",
              "      <td>0.006832</td>\n",
              "      <td>0.006511</td>\n",
              "      <td>-0.000000</td>\n",
              "    </tr>\n",
              "    <tr>\n",
              "      <th>13</th>\n",
              "      <td>T7</td>\n",
              "      <td>0.010350</td>\n",
              "      <td>0.010048</td>\n",
              "      <td>-0.000000</td>\n",
              "    </tr>\n",
              "    <tr>\n",
              "      <th>14</th>\n",
              "      <td>Visibility</td>\n",
              "      <td>0.012306</td>\n",
              "      <td>0.012032</td>\n",
              "      <td>0.000000</td>\n",
              "    </tr>\n",
              "    <tr>\n",
              "      <th>15</th>\n",
              "      <td>RH_5</td>\n",
              "      <td>0.016009</td>\n",
              "      <td>0.016177</td>\n",
              "      <td>0.000000</td>\n",
              "    </tr>\n",
              "    <tr>\n",
              "      <th>16</th>\n",
              "      <td>RH_4</td>\n",
              "      <td>0.026370</td>\n",
              "      <td>0.024155</td>\n",
              "      <td>0.000000</td>\n",
              "    </tr>\n",
              "    <tr>\n",
              "      <th>17</th>\n",
              "      <td>T4</td>\n",
              "      <td>0.028957</td>\n",
              "      <td>0.026986</td>\n",
              "      <td>-0.000000</td>\n",
              "    </tr>\n",
              "    <tr>\n",
              "      <th>18</th>\n",
              "      <td>Windspeed</td>\n",
              "      <td>0.029178</td>\n",
              "      <td>0.030457</td>\n",
              "      <td>0.002912</td>\n",
              "    </tr>\n",
              "    <tr>\n",
              "      <th>19</th>\n",
              "      <td>RH_6</td>\n",
              "      <td>0.038023</td>\n",
              "      <td>0.035006</td>\n",
              "      <td>-0.000000</td>\n",
              "    </tr>\n",
              "    <tr>\n",
              "      <th>20</th>\n",
              "      <td>RH_3</td>\n",
              "      <td>0.096095</td>\n",
              "      <td>0.095012</td>\n",
              "      <td>0.000000</td>\n",
              "    </tr>\n",
              "    <tr>\n",
              "      <th>21</th>\n",
              "      <td>T8</td>\n",
              "      <td>0.101995</td>\n",
              "      <td>0.100753</td>\n",
              "      <td>0.000000</td>\n",
              "    </tr>\n",
              "    <tr>\n",
              "      <th>22</th>\n",
              "      <td>Tdewpoint</td>\n",
              "      <td>0.117862</td>\n",
              "      <td>0.076804</td>\n",
              "      <td>0.000000</td>\n",
              "    </tr>\n",
              "    <tr>\n",
              "      <th>23</th>\n",
              "      <td>T6</td>\n",
              "      <td>0.236441</td>\n",
              "      <td>0.213350</td>\n",
              "      <td>0.000000</td>\n",
              "    </tr>\n",
              "    <tr>\n",
              "      <th>24</th>\n",
              "      <td>T3</td>\n",
              "      <td>0.290587</td>\n",
              "      <td>0.287377</td>\n",
              "      <td>0.000000</td>\n",
              "    </tr>\n",
              "    <tr>\n",
              "      <th>25</th>\n",
              "      <td>RH_1</td>\n",
              "      <td>0.553516</td>\n",
              "      <td>0.511910</td>\n",
              "      <td>0.017880</td>\n",
              "    </tr>\n",
              "  </tbody>\n",
              "</table>\n",
              "</div>\n",
              "      <button class=\"colab-df-convert\" onclick=\"convertToInteractive('df-98a9a6ab-4d9c-42d1-848e-b8c82224bcdc')\"\n",
              "              title=\"Convert this dataframe to an interactive table.\"\n",
              "              style=\"display:none;\">\n",
              "        \n",
              "  <svg xmlns=\"http://www.w3.org/2000/svg\" height=\"24px\"viewBox=\"0 0 24 24\"\n",
              "       width=\"24px\">\n",
              "    <path d=\"M0 0h24v24H0V0z\" fill=\"none\"/>\n",
              "    <path d=\"M18.56 5.44l.94 2.06.94-2.06 2.06-.94-2.06-.94-.94-2.06-.94 2.06-2.06.94zm-11 1L8.5 8.5l.94-2.06 2.06-.94-2.06-.94L8.5 2.5l-.94 2.06-2.06.94zm10 10l.94 2.06.94-2.06 2.06-.94-2.06-.94-.94-2.06-.94 2.06-2.06.94z\"/><path d=\"M17.41 7.96l-1.37-1.37c-.4-.4-.92-.59-1.43-.59-.52 0-1.04.2-1.43.59L10.3 9.45l-7.72 7.72c-.78.78-.78 2.05 0 2.83L4 21.41c.39.39.9.59 1.41.59.51 0 1.02-.2 1.41-.59l7.78-7.78 2.81-2.81c.8-.78.8-2.07 0-2.86zM5.41 20L4 18.59l7.72-7.72 1.47 1.35L5.41 20z\"/>\n",
              "  </svg>\n",
              "      </button>\n",
              "      \n",
              "  <style>\n",
              "    .colab-df-container {\n",
              "      display:flex;\n",
              "      flex-wrap:wrap;\n",
              "      gap: 12px;\n",
              "    }\n",
              "\n",
              "    .colab-df-convert {\n",
              "      background-color: #E8F0FE;\n",
              "      border: none;\n",
              "      border-radius: 50%;\n",
              "      cursor: pointer;\n",
              "      display: none;\n",
              "      fill: #1967D2;\n",
              "      height: 32px;\n",
              "      padding: 0 0 0 0;\n",
              "      width: 32px;\n",
              "    }\n",
              "\n",
              "    .colab-df-convert:hover {\n",
              "      background-color: #E2EBFA;\n",
              "      box-shadow: 0px 1px 2px rgba(60, 64, 67, 0.3), 0px 1px 3px 1px rgba(60, 64, 67, 0.15);\n",
              "      fill: #174EA6;\n",
              "    }\n",
              "\n",
              "    [theme=dark] .colab-df-convert {\n",
              "      background-color: #3B4455;\n",
              "      fill: #D2E3FC;\n",
              "    }\n",
              "\n",
              "    [theme=dark] .colab-df-convert:hover {\n",
              "      background-color: #434B5C;\n",
              "      box-shadow: 0px 1px 3px 1px rgba(0, 0, 0, 0.15);\n",
              "      filter: drop-shadow(0px 1px 2px rgba(0, 0, 0, 0.3));\n",
              "      fill: #FFFFFF;\n",
              "    }\n",
              "  </style>\n",
              "\n",
              "      <script>\n",
              "        const buttonEl =\n",
              "          document.querySelector('#df-98a9a6ab-4d9c-42d1-848e-b8c82224bcdc button.colab-df-convert');\n",
              "        buttonEl.style.display =\n",
              "          google.colab.kernel.accessAllowed ? 'block' : 'none';\n",
              "\n",
              "        async function convertToInteractive(key) {\n",
              "          const element = document.querySelector('#df-98a9a6ab-4d9c-42d1-848e-b8c82224bcdc');\n",
              "          const dataTable =\n",
              "            await google.colab.kernel.invokeFunction('convertToInteractive',\n",
              "                                                     [key], {});\n",
              "          if (!dataTable) return;\n",
              "\n",
              "          const docLinkHtml = 'Like what you see? Visit the ' +\n",
              "            '<a target=\"_blank\" href=https://colab.research.google.com/notebooks/data_table.ipynb>data table notebook</a>'\n",
              "            + ' to learn more about interactive tables.';\n",
              "          element.innerHTML = '';\n",
              "          dataTable['output_type'] = 'display_data';\n",
              "          await google.colab.output.renderOutput(dataTable, element);\n",
              "          const docLink = document.createElement('div');\n",
              "          docLink.innerHTML = docLinkHtml;\n",
              "          element.appendChild(docLink);\n",
              "        }\n",
              "      </script>\n",
              "    </div>\n",
              "  </div>\n",
              "  "
            ],
            "text/plain": [
              "       Features  Linear_Model_Weight  Ridge_Weight  Lasso_weight\n",
              "0          RH_2            -0.456662     -0.401113     -0.000000\n",
              "1         T_out            -0.321969     -0.250943      0.000000\n",
              "2            T2            -0.236198     -0.193899      0.000000\n",
              "3            T9            -0.189977     -0.188615     -0.000000\n",
              "4          RH_8            -0.157585     -0.156584     -0.000110\n",
              "5        RH_out            -0.077748     -0.050642     -0.049557\n",
              "6          RH_7            -0.044620     -0.046297     -0.000000\n",
              "7          RH_9            -0.039808     -0.041707     -0.000000\n",
              "8            T5            -0.015645     -0.020714     -0.000000\n",
              "9            T1            -0.003242     -0.021515      0.000000\n",
              "10          rv2             0.000765      0.000740     -0.000000\n",
              "11          rv1             0.000765      0.000740     -0.000000\n",
              "12  Press_mm_hg             0.006832      0.006511     -0.000000\n",
              "13           T7             0.010350      0.010048     -0.000000\n",
              "14   Visibility             0.012306      0.012032      0.000000\n",
              "15         RH_5             0.016009      0.016177      0.000000\n",
              "16         RH_4             0.026370      0.024155      0.000000\n",
              "17           T4             0.028957      0.026986     -0.000000\n",
              "18    Windspeed             0.029178      0.030457      0.002912\n",
              "19         RH_6             0.038023      0.035006     -0.000000\n",
              "20         RH_3             0.096095      0.095012      0.000000\n",
              "21           T8             0.101995      0.100753      0.000000\n",
              "22    Tdewpoint             0.117862      0.076804      0.000000\n",
              "23           T6             0.236441      0.213350      0.000000\n",
              "24           T3             0.290587      0.287377      0.000000\n",
              "25         RH_1             0.553516      0.511910      0.017880"
            ]
          },
          "metadata": {},
          "execution_count": 66
        }
      ]
    },
    {
      "cell_type": "code",
      "source": [
        "from sklearn.linear_model import Ridge\n",
        "ridge_reg = Ridge(alpha=0.4)\n",
        "ridge_reg.fit(x_train, y_train)\n",
        "pred_test_rr= ridge_reg.predict(x_test)\n",
        "rmse = np.sqrt(mean_squared_error(y_test,pred_test_rr)) \n",
        "round(rmse, 2)"
      ],
      "metadata": {
        "colab": {
          "base_uri": "https://localhost:8080/"
        },
        "id": "ostkLlFzOho9",
        "outputId": "899e8651-2219-465a-c745-3fa66f0b7ae9"
      },
      "execution_count": 87,
      "outputs": [
        {
          "output_type": "execute_result",
          "data": {
            "text/plain": [
              "0.09"
            ]
          },
          "metadata": {},
          "execution_count": 87
        }
      ]
    },
    {
      "cell_type": "code",
      "source": [
        "from sklearn.linear_model import Lasso\n",
        "lasso_reg = Lasso(alpha=0.001)\n",
        "lasso_reg.fit(x_train, y_train)\n",
        "pred_test_rr= lasso_reg.predict(x_test)\n",
        "rmse= np.sqrt(mean_squared_error(y_test,pred_test_rr))\n",
        "round(rmse, 3)\n"
      ],
      "metadata": {
        "colab": {
          "base_uri": "https://localhost:8080/"
        },
        "id": "Vhjvcmx9STsJ",
        "outputId": "4dceb49f-bda4-44d0-8f60-c3852d0d4011"
      },
      "execution_count": 85,
      "outputs": [
        {
          "output_type": "execute_result",
          "data": {
            "text/plain": [
              "0.094"
            ]
          },
          "metadata": {},
          "execution_count": 85
        }
      ]
    },
    {
      "cell_type": "code",
      "source": [
        ""
      ],
      "metadata": {
        "id": "gbUGpH35YVQZ"
      },
      "execution_count": null,
      "outputs": []
    }
  ]
}